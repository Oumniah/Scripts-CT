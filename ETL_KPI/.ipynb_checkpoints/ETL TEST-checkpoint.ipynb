{
 "cells": [
  {
   "cell_type": "code",
   "execution_count": 8,
   "id": "01fab93d",
   "metadata": {},
   "outputs": [
    {
     "name": "stdout",
     "output_type": "stream",
     "text": [
      "Requirement already satisfied: xlrd in c:\\programdata\\anaconda3\\lib\\site-packages (2.0.1)\n"
     ]
    }
   ],
   "source": [
    "\n",
    "#ETL load data from file in local but synchronized with onedrive\n",
    "\n",
    "import pandas as pd\n",
    "import numpy as np\n",
    "from datetime import date, datetime, timedelta\n",
    "\n",
    "source_path = \"C:\\\\Users\\\\Administrateur\\\\CASA Transport SA\\\\Sécurité et Service Client - PowerBI Data\\\\Tramway\"\n",
    "\n",
    "\n",
    "start = datetime.now()\n",
    "\n",
    "print(\"start\")\n",
    "\n",
    "\n",
    "#update Ca file\n",
    "\n",
    "\n",
    "new_ca = source_path +  \"\\CA_Journalier_new.xlsx\"\n",
    "new_ca = pd.read_excel(new_ca)\n",
    "\n",
    "old_ca = source_path + \"\\CA_Journalier.xlsx\"\n",
    "old_ca = pd.read_excel(old_ca)\n",
    "\n",
    "updated_ca = pd.concat([old_ca,new_ca]).drop_duplicates(['Date','Ligne','Code Emplacement','Agence','Equipement','Produit'],keep='last')\n",
    "updated_ca.to_excel(source_path + '\\CA_Journalier.xlsx',index=False)\n",
    "updated_ca\n",
    "print(\"CA Tramway updated\")\n",
    "\n",
    "end = datetime.now()\n",
    "print(end-start)\n",
    "\n"
   ]
  },
  {
   "cell_type": "code",
   "execution_count": null,
   "id": "e0f913cb",
   "metadata": {},
   "outputs": [
    {
     "name": "stdout",
     "output_type": "stream",
     "text": [
      "start\n"
     ]
    }
   ],
   "source": [
    "#ETL load data from file in local but synchronized with onedrive\n",
    "\n",
    "import pandas as pd\n",
    "import numpy as np\n",
    "from datetime import date, datetime, timedelta\n",
    "\n",
    "source_path = \"C:\\\\Users\\\\Administrateur\\\\CASA Transport SA\\\\Sécurité et Service Client - PowerBI Data\\\\Tramway\"\n",
    "\n",
    "\n",
    "start = datetime.now()\n",
    "\n",
    "print(\"start\")\n",
    "\n",
    "\n",
    "#update Ca file\n",
    "\n",
    "\n",
    "new_ca = source_path +  \"\\CA_Journalier_newo.xlsx\"\n",
    "new_ca = pd.read_excel(new_ca, engine='openpyxl')\n",
    "\n",
    "old_ca = source_path + \"\\CA_Journaliero.xlsx\"\n",
    "old_ca = pd.read_excel(old_ca, engine='openpyxl')\n",
    "\n",
    "updated_ca = pd.concat([old_ca,new_ca]).drop_duplicates(['Date','Ligne','Code Emplacement','Agence','Equipement','Produit'],keep='last')\n",
    "updated_ca.to_excel(source_path + '\\CA_Journalier.xlsx',index=False)\n",
    "updated_ca\n",
    "print(\"CA Tramway updated\")\n",
    "\n",
    "end = datetime.now()\n",
    "print(end-start)\n",
    "\n"
   ]
  },
  {
   "cell_type": "code",
   "execution_count": 5,
   "id": "d338a6cf",
   "metadata": {},
   "outputs": [
    {
     "name": "stdout",
     "output_type": "stream",
     "text": [
      "start\n"
     ]
    },
    {
     "name": "stderr",
     "output_type": "stream",
     "text": [
      "C:\\ProgramData\\Anaconda3\\lib\\site-packages\\openpyxl\\styles\\stylesheet.py:226: UserWarning: Workbook contains no default style, apply openpyxl's default\n",
      "  warn(\"Workbook contains no default style, apply openpyxl's default\")\n"
     ]
    },
    {
     "name": "stdout",
     "output_type": "stream",
     "text": [
      "Frequentation Tramway updated\n",
      "0:01:36.190997\n"
     ]
    }
   ],
   "source": [
    "\n",
    "source_path = \"C:\\\\Users\\\\Administrateur\\\\CASA Transport SA\\\\Sécurité et Service Client - PowerBI Data\\\\Tramway\"\n",
    "\n",
    "#\"C:\\\\Users\\\\Administrateur\\\\OneDrive - CASA Transport SA\\\\ETL Final\"\n",
    "\n",
    "\n",
    "start = datetime.now()\n",
    "\n",
    "print(\"start\")\n",
    "\n",
    "\n",
    "#update Freq file\n",
    "old_freq = source_path + \"\\Freq_Journaliere.xlsx\"\n",
    "old_freq = pd.read_excel(old_freq)\n",
    "\n",
    "new_freq = source_path + \"\\Freq_Journalier_new.xlsx\"\n",
    "new_freq = pd.read_excel(new_freq)\n",
    "\n",
    "updated_freq = pd.concat([old_freq,new_freq]).drop_duplicates(['Date','Ligne','Station','Produit'],keep='last')\n",
    "updated_freq.to_excel(source_path + '\\Freq_Journaliere.xlsx',index=False)\n",
    "print(\"Frequentation Tramway updated\")\n",
    "\n",
    "end = datetime.now()\n",
    "print(end-start)"
   ]
  },
  {
   "cell_type": "code",
   "execution_count": 3,
   "id": "dcbc8b6b",
   "metadata": {},
   "outputs": [
    {
     "name": "stdout",
     "output_type": "stream",
     "text": [
      "start\n"
     ]
    },
    {
     "name": "stderr",
     "output_type": "stream",
     "text": [
      "C:\\ProgramData\\Anaconda3\\lib\\site-packages\\openpyxl\\styles\\stylesheet.py:226: UserWarning: Workbook contains no default style, apply openpyxl's default\n",
      "  warn(\"Workbook contains no default style, apply openpyxl's default\")\n"
     ]
    },
    {
     "name": "stdout",
     "output_type": "stream",
     "text": [
      "CA Tramway updated\n"
     ]
    },
    {
     "name": "stderr",
     "output_type": "stream",
     "text": [
      "C:\\ProgramData\\Anaconda3\\lib\\site-packages\\openpyxl\\styles\\stylesheet.py:226: UserWarning: Workbook contains no default style, apply openpyxl's default\n",
      "  warn(\"Workbook contains no default style, apply openpyxl's default\")\n"
     ]
    },
    {
     "name": "stdout",
     "output_type": "stream",
     "text": [
      "CAB Tramway updated\n"
     ]
    },
    {
     "name": "stderr",
     "output_type": "stream",
     "text": [
      "C:\\ProgramData\\Anaconda3\\lib\\site-packages\\openpyxl\\styles\\stylesheet.py:226: UserWarning: Workbook contains no default style, apply openpyxl's default\n",
      "  warn(\"Workbook contains no default style, apply openpyxl's default\")\n"
     ]
    },
    {
     "name": "stdout",
     "output_type": "stream",
     "text": [
      "ARR CA Tramway updated\n"
     ]
    },
    {
     "name": "stderr",
     "output_type": "stream",
     "text": [
      "C:\\ProgramData\\Anaconda3\\lib\\site-packages\\openpyxl\\styles\\stylesheet.py:226: UserWarning: Workbook contains no default style, apply openpyxl's default\n",
      "  warn(\"Workbook contains no default style, apply openpyxl's default\")\n"
     ]
    },
    {
     "name": "stdout",
     "output_type": "stream",
     "text": [
      "ARR CAB Tramway updated\n"
     ]
    },
    {
     "name": "stderr",
     "output_type": "stream",
     "text": [
      "C:\\ProgramData\\Anaconda3\\lib\\site-packages\\openpyxl\\styles\\stylesheet.py:226: UserWarning: Workbook contains no default style, apply openpyxl's default\n",
      "  warn(\"Workbook contains no default style, apply openpyxl's default\")\n"
     ]
    },
    {
     "name": "stdout",
     "output_type": "stream",
     "text": [
      "Frequentation Tramway updated\n",
      "0:08:21.000378\n"
     ]
    }
   ],
   "source": [
    "\n",
    "#ETL load data from file in local but synchronized with onedrive\n",
    "\n",
    "import pandas as pd\n",
    "import numpy as np\n",
    "from datetime import date, datetime, timedelta\n",
    "\n",
    "source_path = \"C:\\\\Users\\\\Administrateur\\\\CASA Transport SA\\\\Sécurité et Service Client - PowerBI Data\\\\Tramway\"\n",
    "\n",
    "#\"C:\\\\Users\\\\Administrateur\\\\OneDrive - CASA Transport SA\\\\ETL Final\"\n",
    "\n",
    "\n",
    "start = datetime.now()\n",
    "\n",
    "print(\"start\")\n",
    "\n",
    "\n",
    "\n",
    "#update Ca file\n",
    "old_ca = source_path + \"\\CA_Journalier.xlsx\"\n",
    "old_ca = pd.read_excel(old_ca)\n",
    "\n",
    "new_ca = source_path +  \"\\CA_Journalier_new.xlsx\"\n",
    "new_ca = pd.read_excel(new_ca)\n",
    "\n",
    "updated_ca = pd.concat([old_ca,new_ca]).drop_duplicates(['Date','Ligne','Code Emplacement','Agence','Equipement','Produit'],keep='last')\n",
    "updated_ca.to_excel(source_path + '\\CA_Journalier.xlsx',index=False)\n",
    "updated_ca\n",
    "print(\"CA Tramway updated\")\n",
    "\n",
    "#update Cab file\n",
    "old_cab = source_path + \"\\CA_Bancaire.xlsx\"\n",
    "old_cab = pd.read_excel(old_cab)\n",
    "\n",
    "new_cab = source_path + \"\\CA_Bancaire_new.xlsx\"\n",
    "new_cab = pd.read_excel(new_cab)\n",
    "\n",
    "updated_cab = pd.concat([old_cab,new_cab]).drop_duplicates(['Date','Ligne','Equipement','Mode Paiment'],keep='last')\n",
    "updated_cab.to_excel(source_path + '\\CA_Bancaire.xlsx',index=False)\n",
    "print(\"CAB Tramway updated\")\n",
    "\n",
    "#update ARR Ca file\n",
    "old_arr_ca = source_path + \"\\ARR_CA.xlsx\"\n",
    "old_arr_ca = pd.read_excel(old_arr_ca)\n",
    "\n",
    "new_arr_ca = source_path + \"\\ARR_CA_new.xlsx\"\n",
    "new_arr_ca = pd.read_excel(new_arr_ca)\n",
    "\n",
    "updated_arr_ca = pd.concat([old_arr_ca,new_arr_ca]).drop_duplicates(['Date','Ligne','Equipement','Libelle Site'],keep='last')\n",
    "updated_arr_ca.to_excel(source_path + '\\ARR_CA.xlsx',index=False)\n",
    "updated_arr_ca\n",
    "print(\"ARR CA Tramway updated\")\n",
    "\n",
    "\n",
    "#update ARR Cab file\n",
    "old_arr_cab = source_path + \"\\ARR_CAB.xlsx\"\n",
    "old_arr_cab = pd.read_excel(old_arr_cab)\n",
    "\n",
    "new_arr_cab = source_path + \"\\ARR_CAB_new.xlsx\"\n",
    "new_arr_cab = pd.read_excel(new_arr_cab)\n",
    "\n",
    "updated_arr_cab = pd.concat([old_arr_cab,new_arr_cab]).drop_duplicates(['Date','Ligne','Equipement','Libelle Site', 'Mode Paiment'],keep='last')\n",
    "updated_arr_cab.to_excel( source_path + '\\ARR_CAB.xlsx',index=False)\n",
    "updated_arr_cab\n",
    "print(\"ARR CAB Tramway updated\")\n",
    "\n",
    "\n",
    "#update Freq file\n",
    "old_freq = source_path + \"\\Freq_Journaliere.xlsx\"\n",
    "old_freq = pd.read_excel(old_freq)\n",
    "\n",
    "new_freq = source_path + \"\\Freq_Journalier_new.xlsx\"\n",
    "new_freq = pd.read_excel(new_freq)\n",
    "\n",
    "updated_freq = pd.concat([old_freq,new_freq]).drop_duplicates(['Date','Ligne','Station','Produit'],keep='last')\n",
    "updated_freq.to_excel(source_path + '\\Freq_Journaliere.xlsx',index=False)\n",
    "print(\"Frequentation Tramway updated\")\n",
    "\n",
    "end = datetime.now()\n",
    "print(end-start)"
   ]
  },
  {
   "cell_type": "code",
   "execution_count": 3,
   "id": "cc2dda41",
   "metadata": {},
   "outputs": [
    {
     "name": "stderr",
     "output_type": "stream",
     "text": [
      "C:\\ProgramData\\Anaconda3\\lib\\site-packages\\openpyxl\\styles\\stylesheet.py:226: UserWarning: Workbook contains no default style, apply openpyxl's default\n",
      "  warn(\"Workbook contains no default style, apply openpyxl's default\")\n"
     ]
    },
    {
     "name": "stdout",
     "output_type": "stream",
     "text": [
      "CA Bus updated\n",
      "Frequentation Bus updated\n"
     ]
    },
    {
     "ename": "NameError",
     "evalue": "name 'start' is not defined",
     "output_type": "error",
     "traceback": [
      "\u001b[1;31m---------------------------------------------------------------------------\u001b[0m",
      "\u001b[1;31mNameError\u001b[0m                                 Traceback (most recent call last)",
      "\u001b[1;32mC:\\Users\\ADMINI~1\\AppData\\Local\\Temp/ipykernel_1440/4020251543.py\u001b[0m in \u001b[0;36m<module>\u001b[1;34m\u001b[0m\n\u001b[0;32m     29\u001b[0m \u001b[1;33m\u001b[0m\u001b[0m\n\u001b[0;32m     30\u001b[0m \u001b[0mend\u001b[0m \u001b[1;33m=\u001b[0m \u001b[0mdatetime\u001b[0m\u001b[1;33m.\u001b[0m\u001b[0mnow\u001b[0m\u001b[1;33m(\u001b[0m\u001b[1;33m)\u001b[0m\u001b[1;33m\u001b[0m\u001b[1;33m\u001b[0m\u001b[0m\n\u001b[1;32m---> 31\u001b[1;33m \u001b[0mprint\u001b[0m\u001b[1;33m(\u001b[0m\u001b[0mend\u001b[0m\u001b[1;33m-\u001b[0m\u001b[0mstart\u001b[0m\u001b[1;33m)\u001b[0m\u001b[1;33m\u001b[0m\u001b[1;33m\u001b[0m\u001b[0m\n\u001b[0m",
      "\u001b[1;31mNameError\u001b[0m: name 'start' is not defined"
     ]
    }
   ],
   "source": [
    "\n",
    "source_path = \"C:\\\\Users\\\\Administrateur\\\\CASA Transport SA\\\\Sécurité et Service Client - PowerBI Data\\\\BUS\\\\Datamart Bus\"\n",
    "\n",
    "\n",
    "#BUS\n",
    "old_ca_bus = source_path + \"\\Bus_CA.xlsx\"\n",
    "old_ca_bus = pd.read_excel(old_ca_bus)\n",
    "\n",
    "new_ca_bus= source_path + \"\\RECETTE_new.xlsx\"\n",
    "new_ca_bus = pd.read_excel(new_ca_bus)\n",
    "\n",
    "old_freq_bus = source_path + \"\\Bus_Freq.xlsx\"\n",
    "old_freq_bus = pd.read_excel(old_freq_bus)\n",
    "\n",
    "new_freq_bus= source_path + \"\\VALIDATION_new.xlsx\"\n",
    "new_freq_bus = pd.read_excel(new_freq_bus)\n",
    "\n",
    "\n",
    "#update Bus Ca file\n",
    "updated_ca_bus = pd.concat([old_ca_bus,new_ca_bus]).drop_duplicates(['date','id_ligne','id_produit','id_operation_vente','id_site','id_equipement','montant vente','nombre vente'],keep='last')\n",
    "updated_ca_bus.to_excel(source_path + '\\Bus_CA.xlsx',index=False)\n",
    "print(\"CA Bus updated\")\n",
    "\n",
    "\n",
    "#update Bus Freq file\n",
    "updated_freq_bus = pd.concat([old_freq_bus,new_freq_bus]).drop_duplicates(['date','id_ligne','id_produit','1ere montee'],keep='last')\n",
    "updated_freq_bus.to_excel(source_path + '\\Bus_Freq.xlsx',index=False)\n",
    "print(\"Frequentation Bus updated\")\n",
    "\n",
    "\n",
    "end = datetime.now()\n",
    "print(end-start)"
   ]
  },
  {
   "cell_type": "code",
   "execution_count": 7,
   "id": "1a5efa76",
   "metadata": {
    "collapsed": true
   },
   "outputs": [
    {
     "name": "stdout",
     "output_type": "stream",
     "text": [
      "start\n"
     ]
    },
    {
     "name": "stderr",
     "output_type": "stream",
     "text": [
      "C:\\ProgramData\\Anaconda3\\lib\\site-packages\\openpyxl\\styles\\stylesheet.py:226: UserWarning: Workbook contains no default style, apply openpyxl's default\n",
      "  warn(\"Workbook contains no default style, apply openpyxl's default\")\n"
     ]
    },
    {
     "name": "stdout",
     "output_type": "stream",
     "text": [
      "CA Tramway updated\n"
     ]
    },
    {
     "name": "stderr",
     "output_type": "stream",
     "text": [
      "C:\\ProgramData\\Anaconda3\\lib\\site-packages\\openpyxl\\styles\\stylesheet.py:226: UserWarning: Workbook contains no default style, apply openpyxl's default\n",
      "  warn(\"Workbook contains no default style, apply openpyxl's default\")\n"
     ]
    },
    {
     "name": "stdout",
     "output_type": "stream",
     "text": [
      "CAB Tramway updated\n"
     ]
    },
    {
     "name": "stderr",
     "output_type": "stream",
     "text": [
      "C:\\ProgramData\\Anaconda3\\lib\\site-packages\\openpyxl\\styles\\stylesheet.py:226: UserWarning: Workbook contains no default style, apply openpyxl's default\n",
      "  warn(\"Workbook contains no default style, apply openpyxl's default\")\n"
     ]
    },
    {
     "name": "stdout",
     "output_type": "stream",
     "text": [
      "ARR CA Tramway updated\n"
     ]
    },
    {
     "name": "stderr",
     "output_type": "stream",
     "text": [
      "C:\\ProgramData\\Anaconda3\\lib\\site-packages\\openpyxl\\styles\\stylesheet.py:226: UserWarning: Workbook contains no default style, apply openpyxl's default\n",
      "  warn(\"Workbook contains no default style, apply openpyxl's default\")\n"
     ]
    },
    {
     "name": "stdout",
     "output_type": "stream",
     "text": [
      "ARR CAB Tramway updated\n"
     ]
    },
    {
     "name": "stderr",
     "output_type": "stream",
     "text": [
      "C:\\ProgramData\\Anaconda3\\lib\\site-packages\\openpyxl\\styles\\stylesheet.py:226: UserWarning: Workbook contains no default style, apply openpyxl's default\n",
      "  warn(\"Workbook contains no default style, apply openpyxl's default\")\n"
     ]
    },
    {
     "name": "stdout",
     "output_type": "stream",
     "text": [
      "Frequentation Tramway updated\n"
     ]
    },
    {
     "name": "stderr",
     "output_type": "stream",
     "text": [
      "C:\\ProgramData\\Anaconda3\\lib\\site-packages\\openpyxl\\styles\\stylesheet.py:226: UserWarning: Workbook contains no default style, apply openpyxl's default\n",
      "  warn(\"Workbook contains no default style, apply openpyxl's default\")\n"
     ]
    },
    {
     "name": "stdout",
     "output_type": "stream",
     "text": [
      "BO CA Bus updated\n",
      "BO Frequentation Bus updated\n",
      "0:10:21.380523\n"
     ]
    }
   ],
   "source": [
    "#ETL load data from file in local but synchronized with onedrive\n",
    "\n",
    "import pandas as pd\n",
    "import numpy as np\n",
    "from datetime import date, datetime, timedelta\n",
    "\n",
    "source_path = \"C:\\\\Users\\\\Administrateur\\\\CASA Transport SA\\\\Sécurité et Service Client - PowerBI Data\\\\Tramway\"\n",
    "\n",
    "\n",
    "start = datetime.now()\n",
    "\n",
    "print(\"start\")\n",
    "\n",
    "\n",
    "#update Ca file\n",
    "old_ca = source_path + \"\\CA_Journalier.xlsx\"\n",
    "old_ca = pd.read_excel(old_ca)\n",
    "\n",
    "new_ca = source_path +  \"\\CA_Journalier_new.xlsx\"\n",
    "new_ca = pd.read_excel(new_ca)\n",
    "\n",
    "updated_ca = pd.concat([old_ca,new_ca]).drop_duplicates(['Date','Ligne','Code Emplacement','Agence','Equipement','Produit'],keep='last')\n",
    "updated_ca.to_excel(source_path + '\\CA_Journalier.xlsx',index=False)\n",
    "updated_ca\n",
    "print(\"CA Tramway updated\")\n",
    "\n",
    "#update Cab file\n",
    "old_cab = source_path + \"\\CA_Bancaire.xlsx\"\n",
    "old_cab = pd.read_excel(old_cab)\n",
    "\n",
    "new_cab = source_path + \"\\CA_Bancaire_new.xlsx\"\n",
    "new_cab = pd.read_excel(new_cab)\n",
    "\n",
    "updated_cab = pd.concat([old_cab,new_cab]).drop_duplicates(['Date','Ligne','Equipement','Mode Paiment'],keep='last')\n",
    "updated_cab.to_excel(source_path + '\\CA_Bancaire.xlsx',index=False)\n",
    "print(\"CAB Tramway updated\")\n",
    "\n",
    "#update ARR Ca file\n",
    "old_arr_ca = source_path + \"\\ARR_CA.xlsx\"\n",
    "old_arr_ca = pd.read_excel(old_arr_ca)\n",
    "\n",
    "new_arr_ca = source_path + \"\\ARR_CA_new.xlsx\"\n",
    "new_arr_ca = pd.read_excel(new_arr_ca)\n",
    "\n",
    "updated_arr_ca = pd.concat([old_arr_ca,new_arr_ca]).drop_duplicates(['Date','Ligne','Equipement','Libelle Site'],keep='last')\n",
    "updated_arr_ca.to_excel(source_path + '\\ARR_CA.xlsx',index=False)\n",
    "updated_arr_ca\n",
    "print(\"ARR CA Tramway updated\")\n",
    "\n",
    "\n",
    "#update ARR Cab file\n",
    "old_arr_cab = source_path + \"\\ARR_CAB.xlsx\"\n",
    "old_arr_cab = pd.read_excel(old_arr_cab)\n",
    "\n",
    "new_arr_cab = source_path + \"\\ARR_CAB_new.xlsx\"\n",
    "new_arr_cab = pd.read_excel(new_arr_cab)\n",
    "\n",
    "updated_arr_cab = pd.concat([old_arr_cab,new_arr_cab]).drop_duplicates(['Date','Ligne','Equipement','Libelle Site', 'Mode Paiment'],keep='last')\n",
    "updated_arr_cab.to_excel( source_path + '\\ARR_CAB.xlsx',index=False)\n",
    "updated_arr_cab\n",
    "print(\"ARR CAB Tramway updated\")\n",
    "\n",
    "\n",
    "#update Freq file\n",
    "old_freq = source_path + \"\\Freq_Journaliere.xlsx\"\n",
    "old_freq = pd.read_excel(old_freq)\n",
    "\n",
    "new_freq = source_path + \"\\Freq_Journalier_new.xlsx\"\n",
    "new_freq = pd.read_excel(new_freq)\n",
    "\n",
    "updated_freq = pd.concat([old_freq,new_freq]).drop_duplicates(['Date','Ligne','Station','Produit'],keep='last')\n",
    "updated_freq.to_excel(source_path + '\\Freq_Journaliere.xlsx',index=False)\n",
    "print(\"Frequentation Tramway updated\")\n",
    "\n",
    "\n",
    "#Bus BO\n",
    "source_path = \"C:\\\\Users\\\\Administrateur\\\\CASA Transport SA\\\\Sécurité et Service Client - PowerBI Data\\\\BUS\\\\Datamart Bus\"\n",
    "\n",
    "old_ca_bus = source_path + \"\\Bus_CA.xlsx\"\n",
    "old_ca_bus = pd.read_excel(old_ca_bus)\n",
    "\n",
    "new_ca_bus= source_path + \"\\RECETTE_new.xlsx\"\n",
    "new_ca_bus = pd.read_excel(new_ca_bus)\n",
    "\n",
    "old_freq_bus = source_path + \"\\Bus_Freq.xlsx\"\n",
    "old_freq_bus = pd.read_excel(old_freq_bus)\n",
    "\n",
    "new_freq_bus= source_path + \"\\VALIDATION_new.xlsx\"\n",
    "new_freq_bus = pd.read_excel(new_freq_bus)\n",
    "\n",
    "#update Bus Ca file\n",
    "updated_ca_bus = pd.concat([old_ca_bus,new_ca_bus]).drop_duplicates(['date','id_ligne','id_produit','id_operation_vente','id_site','id_equipement','montant vente','nombre vente'],keep='last')\n",
    "updated_ca_bus.to_excel(source_path + '\\Bus_CA.xlsx',index=False)\n",
    "print(\"BO CA Bus updated\")\n",
    "\n",
    "\n",
    "#update Bus Freq file\n",
    "updated_freq_bus = pd.concat([old_freq_bus,new_freq_bus]).drop_duplicates(['date','id_ligne','id_produit','1ere montee'],keep='last')\n",
    "updated_freq_bus.to_excel(source_path + '\\Bus_Freq.xlsx',index=False)\n",
    "print(\"BO Frequentation Bus updated\")\n",
    "\n",
    "\n",
    "end = datetime.now()\n",
    "print(end-start)\n",
    "\n"
   ]
  },
  {
   "cell_type": "code",
   "execution_count": 19,
   "id": "bc90ac3d",
   "metadata": {},
   "outputs": [
    {
     "name": "stdout",
     "output_type": "stream",
     "text": [
      "start\n"
     ]
    },
    {
     "data": {
      "text/html": [
       "<div>\n",
       "<style scoped>\n",
       "    .dataframe tbody tr th:only-of-type {\n",
       "        vertical-align: middle;\n",
       "    }\n",
       "\n",
       "    .dataframe tbody tr th {\n",
       "        vertical-align: top;\n",
       "    }\n",
       "\n",
       "    .dataframe thead th {\n",
       "        text-align: right;\n",
       "    }\n",
       "</style>\n",
       "<table border=\"1\" class=\"dataframe\">\n",
       "  <thead>\n",
       "    <tr style=\"text-align: right;\">\n",
       "      <th></th>\n",
       "      <th>DATE</th>\n",
       "      <th>LIGNE</th>\n",
       "      <th>PRODUIT</th>\n",
       "      <th>NOMBRE DE VALIDATION</th>\n",
       "    </tr>\n",
       "  </thead>\n",
       "  <tbody>\n",
       "    <tr>\n",
       "      <th>0</th>\n",
       "      <td>01/05/2022</td>\n",
       "      <td>L006</td>\n",
       "      <td>Ticket simple</td>\n",
       "      <td>1417</td>\n",
       "    </tr>\n",
       "    <tr>\n",
       "      <th>1</th>\n",
       "      <td>01/05/2022</td>\n",
       "      <td>L006</td>\n",
       "      <td>Ticket PV</td>\n",
       "      <td>2</td>\n",
       "    </tr>\n",
       "    <tr>\n",
       "      <th>2</th>\n",
       "      <td>01/05/2022</td>\n",
       "      <td>L006</td>\n",
       "      <td>Abonnement</td>\n",
       "      <td>0</td>\n",
       "    </tr>\n",
       "    <tr>\n",
       "      <th>3</th>\n",
       "      <td>01/05/2022</td>\n",
       "      <td>L006</td>\n",
       "      <td>Palais</td>\n",
       "      <td>0</td>\n",
       "    </tr>\n",
       "    <tr>\n",
       "      <th>4</th>\n",
       "      <td>01/05/2022</td>\n",
       "      <td>L006</td>\n",
       "      <td>Personnel</td>\n",
       "      <td>0</td>\n",
       "    </tr>\n",
       "    <tr>\n",
       "      <th>...</th>\n",
       "      <td>...</td>\n",
       "      <td>...</td>\n",
       "      <td>...</td>\n",
       "      <td>...</td>\n",
       "    </tr>\n",
       "    <tr>\n",
       "      <th>8809</th>\n",
       "      <td>25/05/2022</td>\n",
       "      <td>L907</td>\n",
       "      <td>Ticket PV</td>\n",
       "      <td>1</td>\n",
       "    </tr>\n",
       "    <tr>\n",
       "      <th>8810</th>\n",
       "      <td>25/05/2022</td>\n",
       "      <td>L907</td>\n",
       "      <td>Abonnement</td>\n",
       "      <td>0</td>\n",
       "    </tr>\n",
       "    <tr>\n",
       "      <th>8811</th>\n",
       "      <td>25/05/2022</td>\n",
       "      <td>L907</td>\n",
       "      <td>Palais</td>\n",
       "      <td>0</td>\n",
       "    </tr>\n",
       "    <tr>\n",
       "      <th>8812</th>\n",
       "      <td>25/05/2022</td>\n",
       "      <td>L907</td>\n",
       "      <td>Personnel</td>\n",
       "      <td>0</td>\n",
       "    </tr>\n",
       "    <tr>\n",
       "      <th>8813</th>\n",
       "      <td>25/05/2022</td>\n",
       "      <td>L907</td>\n",
       "      <td>PMT</td>\n",
       "      <td>0</td>\n",
       "    </tr>\n",
       "  </tbody>\n",
       "</table>\n",
       "<p>8814 rows × 4 columns</p>\n",
       "</div>"
      ],
      "text/plain": [
       "            DATE LIGNE        PRODUIT  NOMBRE DE VALIDATION\n",
       "0     01/05/2022  L006  Ticket simple                  1417\n",
       "1     01/05/2022  L006      Ticket PV                     2\n",
       "2     01/05/2022  L006     Abonnement                     0\n",
       "3     01/05/2022  L006         Palais                     0\n",
       "4     01/05/2022  L006      Personnel                     0\n",
       "...          ...   ...            ...                   ...\n",
       "8809  25/05/2022  L907      Ticket PV                     1\n",
       "8810  25/05/2022  L907     Abonnement                     0\n",
       "8811  25/05/2022  L907         Palais                     0\n",
       "8812  25/05/2022  L907      Personnel                     0\n",
       "8813  25/05/2022  L907            PMT                     0\n",
       "\n",
       "[8814 rows x 4 columns]"
      ]
     },
     "execution_count": 19,
     "metadata": {},
     "output_type": "execute_result"
    }
   ],
   "source": [
    "\n",
    "\n",
    "#update Bus Freq file\n",
    "updated_freq_bus = pd.concat([old_freq_bus,new_freq_bus]).drop_duplicates(['DATE','LIGNE','PRODUIT'],keep='last')\n",
    "updated_freq_bus.to_excel(source_path + 'Caisse_Bus_Freq.xlsx',index=False)\n",
    "print(\"Caisse Frequentation Bus updated\")\n",
    "\n",
    "\n",
    "\n",
    "end = datetime.now()\n",
    "print(end-start)"
   ]
  },
  {
   "cell_type": "code",
   "execution_count": null,
   "id": "680d0ee9",
   "metadata": {},
   "outputs": [
    {
     "name": "stdout",
     "output_type": "stream",
     "text": [
      "start\n",
      "Caisse CA Bus updated\n"
     ]
    }
   ],
   "source": [
    "#ETL load data from file in local but synchronized with onedrive\n",
    "\n",
    "import pandas as pd\n",
    "import numpy as np\n",
    "from datetime import date, datetime, timedelta\n",
    "\n",
    "\n",
    "start = datetime.now()\n",
    "\n",
    "print(\"start\")\n",
    "\n",
    "#Caisse BUS\n",
    "source_path = \"C:\\\\Users\\\\Administrateur\\\\CASA Transport SA\\\\Sécurité et Service Client - PowerBI Data\\\\BUS\"\n",
    "\n",
    "old_ca_bus = source_path + \"\\Caisse_Bus_CA.xlsx\"\n",
    "old_ca_bus = pd.read_excel(old_ca_bus)\n",
    "old_ca_bus\n",
    "\n",
    "new_ca_bus= source_path + \"\\RECETTE_new.xlsx\"\n",
    "new_ca_bus = pd.read_excel(new_ca_bus)\n",
    "\n",
    "old_freq_bus = source_path + \"\\Caisse_Bus_Freq.xlsx\"\n",
    "old_freq_bus = pd.read_excel(old_freq_bus)\n",
    "\n",
    "new_freq_bus= source_path + \"\\VALIDATION_new.xlsx\"\n",
    "new_freq_bus = pd.read_excel(new_freq_bus)\n",
    "\n",
    "\n",
    "#update Bus Ca file\n",
    "updated_ca_bus = pd.concat([old_ca_bus,new_ca_bus]).drop_duplicates(['DATE','LIGNE OU EQUIPEMENT'],keep='last')\n",
    "updated_ca_bus.to_excel(source_path + '\\Caisse_Bus_CA.xlsx',index=False)\n",
    "print(\"Caisse CA Bus updated\")\n",
    "\n",
    "\n",
    "\n",
    "#update Bus Freq file\n",
    "updated_freq_bus = pd.concat([old_freq_bus,new_freq_bus]).drop_duplicates(['DATE','LIGNE','PRODUIT'],keep='last')\n",
    "updated_freq_bus.to_excel(source_path + '\\Caisse_Bus_Freq.xlsx',index=False)\n",
    "print(\"Caisse Frequentation Bus updated\")\n",
    "\n",
    "\n",
    "\n",
    "end = datetime.now()\n",
    "print(end-start)"
   ]
  }
 ],
 "metadata": {
  "kernelspec": {
   "display_name": "Python 3 (ipykernel)",
   "language": "python",
   "name": "python3"
  },
  "language_info": {
   "codemirror_mode": {
    "name": "ipython",
    "version": 3
   },
   "file_extension": ".py",
   "mimetype": "text/x-python",
   "name": "python",
   "nbconvert_exporter": "python",
   "pygments_lexer": "ipython3",
   "version": "3.9.7"
  }
 },
 "nbformat": 4,
 "nbformat_minor": 5
}
