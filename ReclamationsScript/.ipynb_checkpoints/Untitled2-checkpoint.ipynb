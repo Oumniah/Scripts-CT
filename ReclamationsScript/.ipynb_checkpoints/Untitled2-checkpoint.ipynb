{
 "cells": [
  {
   "cell_type": "code",
   "execution_count": 8,
   "id": "1a5145e4",
   "metadata": {},
   "outputs": [
    {
     "name": "stdout",
     "output_type": "stream",
     "text": [
      "start\n"
     ]
    },
    {
     "name": "stderr",
     "output_type": "stream",
     "text": [
      "C:\\ProgramData\\Anaconda3\\lib\\site-packages\\openpyxl\\styles\\stylesheet.py:226: UserWarning: Workbook contains no default style, apply openpyxl's default\n",
      "  warn(\"Workbook contains no default style, apply openpyxl's default\")\n",
      "C:\\ProgramData\\Anaconda3\\lib\\site-packages\\openpyxl\\styles\\stylesheet.py:226: UserWarning: Workbook contains no default style, apply openpyxl's default\n",
      "  warn(\"Workbook contains no default style, apply openpyxl's default\")\n",
      "C:\\ProgramData\\Anaconda3\\lib\\site-packages\\openpyxl\\styles\\stylesheet.py:226: UserWarning: Workbook contains no default style, apply openpyxl's default\n",
      "  warn(\"Workbook contains no default style, apply openpyxl's default\")\n",
      "C:\\ProgramData\\Anaconda3\\lib\\site-packages\\openpyxl\\styles\\stylesheet.py:226: UserWarning: Workbook contains no default style, apply openpyxl's default\n",
      "  warn(\"Workbook contains no default style, apply openpyxl's default\")\n"
     ]
    },
    {
     "name": "stdout",
     "output_type": "stream",
     "text": [
      "0:07:04.857078\n"
     ]
    }
   ],
   "source": [
    "#ETL load data from file in local but synchronized with onedrive\n",
    "\n",
    "import pandas as pd\n",
    "import numpy as np\n",
    "from datetime import date, datetime, timedelta\n",
    "\n",
    "source_path = \"C:\\\\Users\\\\Administrateur\\\\OneDrive - CASA Transport SA\\\\ETL Final\"\n",
    "\n",
    "start = datetime.now()\n",
    "\n",
    "print(\"start\")\n",
    "\n",
    "old_ca = source_path + \"\\CA_Journalier.xlsx\"\n",
    "old_ca = pd.read_excel(old_ca)\n",
    "\n",
    "new_ca = source_path + \"\\CA_Journalier_new.xlsx\"\n",
    "new_ca = pd.read_excel(new_ca)\n",
    "\n",
    "updated_ca = pd.concat([old_ca,new_ca]).drop_duplicates([\"Date\",\"Ligne\",\"Code Emplacement\",\"Agence\",\"Equipement\",\"Produit\"],keep=\"last\")\n",
    "updated_ca.to_excel(source_path + \"\\CA_Journalier.xlsx\",index=False)\n",
    "\n",
    "\n",
    "\n",
    "\n",
    "old_cab = source_path + \"\\CA_Bancaire.xlsx\"\n",
    "old_cab = pd.read_excel(old_cab)\n",
    "\n",
    "new_cab = source_path + \"\\CA_Bancaire_new.xlsx\"\n",
    "new_cab = pd.read_excel(new_cab)\n",
    "\n",
    "updated_cab = pd.concat([old_cab,new_cab]).drop_duplicates([\"Date\",\"Ligne\",\"Equipement\",\"Mode Paiment\"],keep=\"last\")\n",
    "updated_cab.to_excel(source_path + \"\\CA_Bancaire.xlsx\",index=False)\n",
    "\n",
    "\n",
    "\n",
    "\n",
    "old_arr_ca = source_path + \"\\ARR_CA.xlsx\"\n",
    "old_arr_ca = pd.read_excel(old_arr_ca)\n",
    "\n",
    "new_arr_ca = source_path + \"\\ARR_CA_new.xlsx\"\n",
    "new_arr_ca = pd.read_excel(new_arr_ca)\n",
    "\n",
    "updated_arr_ca = pd.concat([old_arr_ca,new_arr_ca]).drop_duplicates([\"Date\",\"Ligne\",\"Equipement\",\"Libelle Site\"],keep=\"last\")\n",
    "updated_arr_ca.to_excel(source_path + \"\\ARR_CA.xlsx\",index=False)\n",
    "\n",
    "\n",
    "\n",
    "\n",
    "old_arr_cab = source_path + \"\\ARR_CAB.xlsx\"\n",
    "old_arr_cab = pd.read_excel(old_arr_cab)\n",
    "\n",
    "new_arr_cab = source_path + \"\\ARR_CAB_new.xlsx\"\n",
    "new_arr_cab = pd.read_excel(new_arr_cab)\n",
    "\n",
    "updated_arr_cab = pd.concat([old_arr_cab,new_arr_cab]).drop_duplicates([\"Date\",\"Ligne\",\"Equipement\",\"Libelle Site\", \"Mode Paiment\"],keep=\"last\")\n",
    "updated_arr_cab.to_excel(source_path + \"\\ARR_CAB.xlsx\",index=False)\n",
    "\n",
    "\n",
    "\n",
    "\n",
    "old_freq = source_path + \"\\Freq_Journaliere.xlsx\"\n",
    "old_freq = pd.read_excel(old_freq)\n",
    "\n",
    "new_freq = source_path + \"\\Freq_Journaliere_new.xlsx\"\n",
    "new_freq = pd.read_excel(new_freq)\n",
    "\n",
    "updated_freq = pd.concat([old_freq,new_freq]).drop_duplicates([\"Date\",\"Ligne\",\"Station\",\"Produit\"],keep=\"last\")\n",
    "updated_freq.to_excel(source_path + \"\\Freq_Journaliere.xlsx\",index=False)\n",
    "\n",
    "\n",
    "\n",
    "end = datetime.now()\n",
    "print(end-start)"
   ]
  },
  {
   "cell_type": "code",
   "execution_count": null,
   "id": "8cf5cef2",
   "metadata": {},
   "outputs": [],
   "source": []
  }
 ],
 "metadata": {
  "kernelspec": {
   "display_name": "Python 3 (ipykernel)",
   "language": "python",
   "name": "python3"
  },
  "language_info": {
   "codemirror_mode": {
    "name": "ipython",
    "version": 3
   },
   "file_extension": ".py",
   "mimetype": "text/x-python",
   "name": "python",
   "nbconvert_exporter": "python",
   "pygments_lexer": "ipython3",
   "version": "3.9.7"
  }
 },
 "nbformat": 4,
 "nbformat_minor": 5
}
