{
 "cells": [
  {
   "cell_type": "code",
   "execution_count": 23,
   "metadata": {},
   "outputs": [],
   "source": [
    "import pandas as pd\n",
    "import numpy as np\n",
    "from datetime import date, datetime, timedelta"
   ]
  },
  {
   "cell_type": "code",
   "execution_count": 24,
   "metadata": {},
   "outputs": [],
   "source": [
    "#Case 1 : All transactions in one file (different sheets)\n",
    "\n",
    "#concat all transactions\n",
    "result = pd.concat(pd.read_excel(\"Liste TRX CasaTram 2022.xlsx\", sheet_name=None) , ignore_index=True)\n",
    "\n",
    "#6 - rename columns, drop ...\n",
    "#step 1 (modified)\n",
    "#result = result.drop(columns=['Nom Commerçant', 'ID Commerçant', 'ARN', 'N° Carte', 'Type carte'])\n",
    "\n",
    "result = result.rename(columns={'Date Transaction':'Date et Heure Transaction','Montant ':'Montant'}, inplace = False) \n",
    "result['Date et Heure Transaction']= pd.to_datetime(result['Date et Heure Transaction'])\n",
    "result = result.rename(columns={'Montant':'Montant Naps'}, inplace = False) \n"
   ]
  },
  {
   "cell_type": "code",
   "execution_count": 44,
   "metadata": {
    "collapsed": true
   },
   "outputs": [
    {
     "name": "stderr",
     "output_type": "stream",
     "text": [
      "C:\\Users\\ohoummi\\AppData\\Local\\Temp/ipykernel_17708/890373354.py:17: FutureWarning: Inferring datetime64[ns] from data containing strings is deprecated and will be removed in a future version. To retain the old behavior explicitly pass Series(data, dtype={value.dtype})\n",
      "  result = pd.read_excel('Transactions.xlsx', dtype=object)\n"
     ]
    }
   ],
   "source": [
    "#Case 2 : transactions in different files\n",
    "\n",
    "#1 - increment the range(1,i+2) and add data_trans[i]v /i = number file -1\n",
    "import pandas as pd\n",
    "import numpy as np\n",
    "from datetime import date, datetime, timedelta\n",
    "\n",
    "data_trans = []\n",
    "\n",
    "for i in range(1,4) :\n",
    "        data_trans.append(pd.read_excel(\"Transactions_\"+str(i)+\".xlsx\"))  \n",
    "        \n",
    "result = data_trans[0].append([data_trans[1],data_trans[2]])\n",
    "#result.to_excel('Transactions.xlsx',index=False)  \n",
    "#result = pd.read_excel(\"Transactions.xlsx\")"
   ]
  },
  {
   "cell_type": "code",
   "execution_count": 25,
   "metadata": {},
   "outputs": [
    {
     "name": "stderr",
     "output_type": "stream",
     "text": [
      "C:\\Users\\ohoummi\\Anaconda3\\lib\\site-packages\\openpyxl\\styles\\stylesheet.py:226: UserWarning: Workbook contains no default style, apply openpyxl's default\n",
      "  warn(\"Workbook contains no default style, apply openpyxl's default\")\n"
     ]
    }
   ],
   "source": [
    "#2 - read BO file\n",
    "file_BO = \"CA_Bancaire_BO.xlsx\"\n",
    "data_BO = pd.read_excel(file_BO)\n",
    "data_BO['Date et Heure Transaction']= pd.to_datetime(data_BO['Date et Heure Transaction'])\n",
    "data_BO = data_BO.rename(columns={'Montant':'Montant BO'}, inplace = False) \n",
    "\n",
    "#data_BO = pd.read_excel(file_BO, dtype=object)\n"
   ]
  },
  {
   "cell_type": "code",
   "execution_count": 26,
   "metadata": {},
   "outputs": [],
   "source": [
    "#set seconds to 0\n",
    "data_BO['Date et Heure Transaction'] = data_BO['Date et Heure Transaction'].apply(lambda t: t.replace(second=0))\n",
    "result['Date et Heure Transaction'] = result['Date et Heure Transaction'].apply(lambda t: t.replace(second=0))"
   ]
  },
  {
   "cell_type": "code",
   "execution_count": 27,
   "metadata": {},
   "outputs": [],
   "source": [
    "#group by date\n",
    "result = result.groupby(by=[\"Date et Heure Transaction\"]).sum()\n",
    "result = result.reset_index()\n",
    "#result.to_excel('Trans.xlsx',index=False) #can be deleted later\n"
   ]
  },
  {
   "cell_type": "code",
   "execution_count": 28,
   "metadata": {},
   "outputs": [],
   "source": [
    "#7\n",
    "#to use date transaction and calculate the BO / Naps gab\n",
    "result1 = result.merge(data_BO, on = [\"Date et Heure Transaction\"], how=\"outer\")\n",
    "result1 = result1.fillna(0)\n",
    "result1['Ecart Naps/BO'] = result1['Montant Naps'] - result1['Montant BO'] \n",
    "result1.to_excel('Bancaire_date_transaction.xlsx',index=False)\n",
    "\n",
    "#END Step 1"
   ]
  }
 ],
 "metadata": {
  "kernelspec": {
   "display_name": "Python 3 (ipykernel)",
   "language": "python",
   "name": "python3"
  },
  "language_info": {
   "codemirror_mode": {
    "name": "ipython",
    "version": 3
   },
   "file_extension": ".py",
   "mimetype": "text/x-python",
   "name": "python",
   "nbconvert_exporter": "python",
   "pygments_lexer": "ipython3",
   "version": "3.9.7"
  }
 },
 "nbformat": 4,
 "nbformat_minor": 4
}
